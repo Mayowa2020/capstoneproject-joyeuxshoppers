{
 "cells": [
  {
   "cell_type": "code",
   "execution_count": 4,
   "id": "b366d9b1",
   "metadata": {},
   "outputs": [
    {
     "name": "stdout",
     "output_type": "stream",
     "text": [
      "Requirement already satisfied: mysqlclient in c:\\users\\bookie\\anaconda3\\lib\\site-packages (2.2.1)\n",
      "Requirement already satisfied: python-dotenv in c:\\users\\bookie\\anaconda3\\lib\\site-packages (0.21.0)\n",
      "Requirement already satisfied: pymysql in c:\\users\\bookie\\anaconda3\\lib\\site-packages (1.1.0)\n"
     ]
    }
   ],
   "source": [
    "!pip3 install mysqlclient\n",
    "!pip install python-dotenv\n",
    "!pip install pymysql"
   ]
  },
  {
   "cell_type": "code",
   "execution_count": 5,
   "id": "eb97baaf",
   "metadata": {},
   "outputs": [],
   "source": [
    "import pandas as pd\n",
    "from sqlalchemy import create_engine, inspect\n",
    "from dotenv import load_dotenv\n",
    "import os\n",
    "from sqlalchemy.exc import SQLAlchemyError\n",
    "import pyarrow.parquet as pq\n",
    "import pyarrow as pa\n",
    "\n",
    "load_dotenv(override=True, encoding='utf-16')\n",
    "\n",
    "# Access environment variables\n",
    "database_url = os.getenv('DATABASE_URL')\n",
    "\n",
    "# Create a connection to the MySQL database\n",
    "engine = create_engine(database_url, pool_size=10, max_overflow=20)\n",
    "\n",
    "def load_csv_to_mysql(csv_file, table_name, engine):\n",
    "    try:\n",
    "        # Read the data from the CSV file into a Pandas DataFrame\n",
    "        df = pd.read_csv(csv_file)\n",
    "\n",
    "        # Load data into the specified table\n",
    "        df.to_sql(table_name, con=engine, if_exists='append', chunksize=100000, index=False)\n",
    "        print(f\"Data loaded successfully into the '{table_name}' table.\")\n",
    "\n",
    "    except FileNotFoundError:\n",
    "        print(f\"Error: CSV file '{csv_file}' not found.\")\n",
    "\n",
    "    except pd.errors.EmptyDataError:\n",
    "        print(f\"Error: CSV file '{csv_file}' is empty.\")\n",
    "\n",
    "    except SQLAlchemyError as e:\n",
    "        print(f\"SQLAlchemy Error: {e}\")\n",
    "\n",
    "    except Exception as e:\n",
    "        print(f\"An unexpected error occurred: {e}\")\n",
    "\n",
    "# Specify the order of tables you want to process\n",
    "table_names = ['users', 'orders', 'events', 'distribution_centers', 'products', 'inventory_items', 'order_items']  # Add table names in the desired order\n"
   ]
  },
  {
   "cell_type": "code",
   "execution_count": 7,
   "id": "be3582b6",
   "metadata": {},
   "outputs": [
    {
     "name": "stdout",
     "output_type": "stream",
     "text": [
      "Data loaded successfully into the 'users' table.\n",
      "Data loaded successfully into the 'orders' table.\n",
      "Data loaded successfully into the 'events' table.\n",
      "Data loaded successfully into the 'distribution_centers' table.\n",
      "Data loaded successfully into the 'products' table.\n",
      "Data loaded successfully into the 'inventory_items' table.\n",
      "Data loaded successfully into the 'order_items' table.\n"
     ]
    }
   ],
   "source": [
    "# Iterate through the table names and load the corresponding CSV files\n",
    "for table_name in table_names:\n",
    "    csv_file_name = f'{table_name}.csv'\n",
    "    csv_file_path = f\"C:\\\\Users\\\\Bookie\\\\Documents\\\\Dufuna_Documentation\\\\CapstoneProject\\\\data_tables\\\\{csv_file_name}\"\n",
    "    load_csv_to_mysql(csv_file_path, table_name, engine)"
   ]
  },
  {
   "cell_type": "code",
   "execution_count": null,
   "id": "47f6271a",
   "metadata": {},
   "outputs": [],
   "source": []
  }
 ],
 "metadata": {
  "kernelspec": {
   "display_name": "Python 3 (ipykernel)",
   "language": "python",
   "name": "python3"
  },
  "language_info": {
   "codemirror_mode": {
    "name": "ipython",
    "version": 3
   },
   "file_extension": ".py",
   "mimetype": "text/x-python",
   "name": "python",
   "nbconvert_exporter": "python",
   "pygments_lexer": "ipython3",
   "version": "3.11.5"
  }
 },
 "nbformat": 4,
 "nbformat_minor": 5
}
